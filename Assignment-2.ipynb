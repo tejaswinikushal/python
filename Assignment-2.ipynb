{
 "cells": [
  {
   "cell_type": "markdown",
   "id": "842cc9a5",
   "metadata": {},
   "source": [
    "#### Q1. How do you comment code in Python? What are the different types of comments?"
   ]
  },
  {
   "cell_type": "markdown",
   "id": "d1dfb6c2",
   "metadata": {},
   "source": [
    "we use # symbol to make a comment in python.\n",
    "There are two types of comments in python;\n",
    "(i)Single line Comment\n",
    "(ii)Multi-line Comment\n",
    "\n",
    "#### (i)Single-line comment:"
   ]
  },
  {
   "cell_type": "markdown",
   "id": "c5e6e6fc",
   "metadata": {},
   "source": [
    "                  To add a single line we use hash (#) character.The text followed by # is known as comment in python and which is used to refer its followng code.\n",
    "#### ex:"
   ]
  },
  {
   "cell_type": "code",
   "execution_count": 2,
   "id": "a9d04a0c",
   "metadata": {},
   "outputs": [
    {
     "name": "stdout",
     "output_type": "stream",
     "text": [
      "hello\n"
     ]
    }
   ],
   "source": [
    "# this is a single line comment\n",
    "print(\"hello\")"
   ]
  },
  {
   "cell_type": "markdown",
   "id": "6b3b8d3e",
   "metadata": {},
   "source": [
    "#### (ii)Multi-line Comments:"
   ]
  },
  {
   "cell_type": "markdown",
   "id": "1c44bd2f",
   "metadata": {},
   "source": [
    "                  To add many lines or multiple lines of text we enclose the text by ''' Multi-lines of text '''\n",
    "                                                 (or)\n",
    "                     \"\"\" Here we have multiple lines in this \"\"\"\n",
    "#### ex:"
   ]
  },
  {
   "cell_type": "code",
   "execution_count": 3,
   "id": "8a2bf318",
   "metadata": {},
   "outputs": [
    {
     "name": "stdout",
     "output_type": "stream",
     "text": [
      "i am teja\n"
     ]
    }
   ],
   "source": [
    "\"\"\" This type of comment is also known as a docstring, and it is often used to document functions, classes, or modules.\n",
    "    This is known as multi lined comment.\n",
    "\"\"\"\n",
    "print(\"i am teja\")"
   ]
  },
  {
   "cell_type": "markdown",
   "id": "212004da",
   "metadata": {},
   "source": [
    "#### Q2. What are variables in Python? How do you declare and assign values to variables?"
   ]
  },
  {
   "cell_type": "markdown",
   "id": "4f5a40c9",
   "metadata": {},
   "source": [
    "Variables are used to store data values that can be accessed and manipulated throughout a program.A variable holds a value, and it can be assigned a different value at any time during the programs execut\n",
    "#### Syntax :\n",
    "             variable_name= value\n",
    "#### Ex :"
   ]
  },
  {
   "cell_type": "code",
   "execution_count": 4,
   "id": "0b326539",
   "metadata": {},
   "outputs": [
    {
     "name": "stdout",
     "output_type": "stream",
     "text": [
      "teja\n",
      "19\n",
      "5.5\n"
     ]
    }
   ],
   "source": [
    "name = \"teja\"\n",
    "age =19\n",
    "height =5.5\n",
    "print(name)\n",
    "print(age)\n",
    "print(height)"
   ]
  },
  {
   "cell_type": "markdown",
   "id": "9bf84c20",
   "metadata": {},
   "source": [
    "#### Q3. How do you convert one data type to another in Python?"
   ]
  },
  {
   "cell_type": "markdown",
   "id": "cc3e60f8",
   "metadata": {},
   "source": [
    "We can convert one data type to the other data type in python using the type conversions.\n",
    "Here are some commonly used conversion."
   ]
  },
  {
   "cell_type": "markdown",
   "id": "010bf711",
   "metadata": {},
   "source": [
    "#### 1.Int() :Converts a value to an integer.\n",
    "#### Ex:"
   ]
  },
  {
   "cell_type": "code",
   "execution_count": 5,
   "id": "ee58bd8b",
   "metadata": {},
   "outputs": [
    {
     "name": "stdout",
     "output_type": "stream",
     "text": [
      "5\n"
     ]
    }
   ],
   "source": [
    "x=5.6\n",
    "y=int(x)\n",
    "print(y)"
   ]
  },
  {
   "cell_type": "markdown",
   "id": "d0d46e03",
   "metadata": {},
   "source": [
    "#### 2.float() :converts a value to float.\n",
    "#### Ex:"
   ]
  },
  {
   "cell_type": "code",
   "execution_count": 6,
   "id": "59ad2dc7",
   "metadata": {},
   "outputs": [
    {
     "name": "stdout",
     "output_type": "stream",
     "text": [
      "10.0\n"
     ]
    }
   ],
   "source": [
    "x=10\n",
    "y=float(x)\n",
    "print(y)"
   ]
  },
  {
   "cell_type": "markdown",
   "id": "ce00e800",
   "metadata": {},
   "source": [
    "#### 3.string() : converts a value to string.\n",
    "#### Ex :"
   ]
  },
  {
   "cell_type": "code",
   "execution_count": 7,
   "id": "c426df1a",
   "metadata": {},
   "outputs": [
    {
     "name": "stdout",
     "output_type": "stream",
     "text": [
      "42\n"
     ]
    }
   ],
   "source": [
    "x=42\n",
    "y=str(x)\n",
    "print(y)"
   ]
  },
  {
   "cell_type": "markdown",
   "id": "3626f92f",
   "metadata": {},
   "source": [
    "#### 4.bool() : converts a value to boolean.\n",
    "#### Ex : "
   ]
  },
  {
   "cell_type": "code",
   "execution_count": 8,
   "id": "1e69cfa7",
   "metadata": {},
   "outputs": [
    {
     "name": "stdout",
     "output_type": "stream",
     "text": [
      "False\n"
     ]
    }
   ],
   "source": [
    "y=0\n",
    "x=bool(y)\n",
    "print(x)"
   ]
  },
  {
   "cell_type": "markdown",
   "id": "a87de546",
   "metadata": {},
   "source": [
    "#### 5.list() : Converts an iterable object to a list.\n",
    "#### Ex:"
   ]
  },
  {
   "cell_type": "code",
   "execution_count": 9,
   "id": "5a52ff68",
   "metadata": {},
   "outputs": [
    {
     "name": "stdout",
     "output_type": "stream",
     "text": [
      "[1, 2, 3]\n"
     ]
    }
   ],
   "source": [
    "x=(1,2,3)\n",
    "y=list(x)\n",
    "print(y)"
   ]
  },
  {
   "cell_type": "markdown",
   "id": "b8ce908c",
   "metadata": {},
   "source": [
    "#### 6.tuple() : converts an iterable object to tuple.\n",
    "#### Ex :"
   ]
  },
  {
   "cell_type": "code",
   "execution_count": 10,
   "id": "a97adfe9",
   "metadata": {},
   "outputs": [
    {
     "name": "stdout",
     "output_type": "stream",
     "text": [
      "(1, 4, 5)\n"
     ]
    }
   ],
   "source": [
    "a=[1,4,5]\n",
    "b=tuple(a)\n",
    "print(b)"
   ]
  },
  {
   "cell_type": "markdown",
   "id": "55e0ccca",
   "metadata": {},
   "source": [
    "#### 7.Set() : Convert san iterable object to a set.\n",
    "#### Ex :"
   ]
  },
  {
   "cell_type": "code",
   "execution_count": 11,
   "id": "6f1a80ca",
   "metadata": {},
   "outputs": [
    {
     "name": "stdout",
     "output_type": "stream",
     "text": [
      "{1, 2, 3, 4, 5}\n"
     ]
    }
   ],
   "source": [
    "a=[2,3,5,1,4]\n",
    "b=set(a)\n",
    "print(b)"
   ]
  },
  {
   "cell_type": "markdown",
   "id": "fa399b40",
   "metadata": {},
   "source": [
    "#### 8. Dict : converts sequence of key-value pairs to a dictionary.\n",
    "#### EX:"
   ]
  },
  {
   "cell_type": "code",
   "execution_count": 12,
   "id": "33655c4a",
   "metadata": {},
   "outputs": [
    {
     "name": "stdout",
     "output_type": "stream",
     "text": [
      "{'a': 1, 'b': 2}\n"
     ]
    }
   ],
   "source": [
    "x=[(\"a\",1),(\"b\",2)]\n",
    "y=dict(x)\n",
    "print(y)"
   ]
  },
  {
   "cell_type": "markdown",
   "id": "083aa7c4",
   "metadata": {},
   "source": [
    "#### Q4. How do you write and execute a Python script from the command line?"
   ]
  },
  {
   "cell_type": "markdown",
   "id": "78151cbe",
   "metadata": {},
   "source": [
    "To write and execute a Python script from the command line, we follow these steps:\n",
    "\n",
    "1.Open a text editor and create a new file. For example, you can use a text editor like Notepad, Sublime Text, or Visual Studio   Code.\n",
    "\n",
    "2.Write your Python code in the text file. For example, let's say you want to print \"Hello, World!\" as your script. You can       write the following code:\n",
    "\n",
    "  Ex : print(\"Hello, World!\")\n",
    "\n",
    "3.Save the file with a .py extension. For example, you can save the file as hello.py.\n",
    "\n",
    "4.Open the command prompt or terminal on your operating system.\n",
    "\n",
    "5.Navigate to the directory where you saved your Python script. You can use the cd command (Change Directory) to navigate to the   desired directory.\n",
    "\n",
    "6.Once you are in the correct directory, you can execute the Python script by typing python followed by the name of your script   file. In this case, you would enter the following command:\n",
    "\n",
    "7.Press the Enter/Return key to execute the command. The Python script will run, and you should see the output.\n",
    "  "
   ]
  },
  {
   "cell_type": "markdown",
   "id": "e12cc092",
   "metadata": {},
   "source": [
    "#### Q5. Given a list my_list = [1, 2, 3, 4, 5], write the code to slice the list and obtain the sub-list [2, 3]."
   ]
  },
  {
   "cell_type": "code",
   "execution_count": 13,
   "id": "79b8a087",
   "metadata": {},
   "outputs": [
    {
     "name": "stdout",
     "output_type": "stream",
     "text": [
      "[2, 3]\n"
     ]
    }
   ],
   "source": [
    "my_list=[1,2,3,4,5]\n",
    "sub_list=my_list[1:3]\n",
    "print(sub_list)"
   ]
  },
  {
   "cell_type": "markdown",
   "id": "fd2fc598",
   "metadata": {},
   "source": [
    "#### Q6. What is a complex number in mathematics, and how is it represented in Python?"
   ]
  },
  {
   "cell_type": "markdown",
   "id": "dc32d5f3",
   "metadata": {},
   "source": [
    "In mathematics, a complex number is a number that comprises both a real part and an imaginary part. It is expressed in the form a + bi, where a represents the real part, b represents the imaginary part, and i represents the imaginary unit (√(-1)). The real part and the imaginary part can be any real numbers.\n",
    "\n",
    "In Python, complex numbers are built-in data types, and you can perform arithmetic operations on them. In Python, the imaginary unit i is represented by j. To define a complex number, you can use the following syntax:\n",
    "\n",
    "z = a + bj\n",
    "\n",
    "example:"
   ]
  },
  {
   "cell_type": "code",
   "execution_count": 14,
   "id": "173cb41b",
   "metadata": {},
   "outputs": [
    {
     "name": "stdout",
     "output_type": "stream",
     "text": [
      "Real part: 3.0\n",
      "Imaginary part: 2.0\n"
     ]
    }
   ],
   "source": [
    "#### Define a complex number\n",
    "z = 3 + 2j\n",
    "#### Access the real and imaginary parts\n",
    "real_part = z.real\n",
    "imaginary_part = z.imag\n",
    "\n",
    "print(\"Real part:\", real_part)\n",
    "print(\"Imaginary part:\", imaginary_part)"
   ]
  },
  {
   "cell_type": "markdown",
   "id": "9ba6d15b",
   "metadata": {},
   "source": [
    "#### Q7. What is the correct way to declare a variable named age and assign the value 25 to it?"
   ]
  },
  {
   "cell_type": "code",
   "execution_count": 15,
   "id": "36945f15",
   "metadata": {},
   "outputs": [
    {
     "name": "stdout",
     "output_type": "stream",
     "text": [
      "25\n"
     ]
    }
   ],
   "source": [
    "age=25\n",
    "print(age)"
   ]
  },
  {
   "cell_type": "markdown",
   "id": "2426f0ad",
   "metadata": {},
   "source": [
    "#### Q8. Declare a variable named price and assign the value 9.99 to it. What data type does this variable belong to?"
   ]
  },
  {
   "cell_type": "code",
   "execution_count": 16,
   "id": "fd74826d",
   "metadata": {},
   "outputs": [
    {
     "data": {
      "text/plain": [
       "float"
      ]
     },
     "execution_count": 16,
     "metadata": {},
     "output_type": "execute_result"
    }
   ],
   "source": [
    "price=9.99\n",
    "# the variable is of float data type.\n",
    "type(price)"
   ]
  },
  {
   "cell_type": "markdown",
   "id": "6f0ecb8a",
   "metadata": {},
   "source": [
    "#### Q9. Create a variable named name and assign your full name to it as a string. How would you print the value of this variable?"
   ]
  },
  {
   "cell_type": "code",
   "execution_count": 17,
   "id": "ab92c25b",
   "metadata": {},
   "outputs": [
    {
     "name": "stdout",
     "output_type": "stream",
     "text": [
      "vangimalla Tejaswini\n"
     ]
    }
   ],
   "source": [
    "name=\"vangimalla Tejaswini\"\n",
    "#we can print the value of above variable using print() fumction.\n",
    "print(name)"
   ]
  },
  {
   "cell_type": "markdown",
   "id": "1e4a20de",
   "metadata": {},
   "source": [
    "#### Q10. Given the string \"Hello, World!\", extract the substring \"World\"."
   ]
  },
  {
   "cell_type": "code",
   "execution_count": 18,
   "id": "5c34ed4a",
   "metadata": {},
   "outputs": [
    {
     "data": {
      "text/plain": [
       "'World'"
      ]
     },
     "execution_count": 18,
     "metadata": {},
     "output_type": "execute_result"
    }
   ],
   "source": [
    "given = \"Hello, World!\"\n",
    "given[7:12]"
   ]
  },
  {
   "cell_type": "markdown",
   "id": "4f770e2a",
   "metadata": {},
   "source": [
    "#### Q11. Create a variable named \"is_student\" and assign it a boolean value indicating whether you arecurrently a student or not."
   ]
  },
  {
   "cell_type": "code",
   "execution_count": 19,
   "id": "2b01fc6f",
   "metadata": {},
   "outputs": [],
   "source": [
    "is_student = True"
   ]
  },
  {
   "cell_type": "code",
   "execution_count": null,
   "id": "d8d2beaa",
   "metadata": {},
   "outputs": [],
   "source": []
  }
 ],
 "metadata": {
  "kernelspec": {
   "display_name": "Python 3 (ipykernel)",
   "language": "python",
   "name": "python3"
  },
  "language_info": {
   "codemirror_mode": {
    "name": "ipython",
    "version": 3
   },
   "file_extension": ".py",
   "mimetype": "text/x-python",
   "name": "python",
   "nbconvert_exporter": "python",
   "pygments_lexer": "ipython3",
   "version": "3.11.2"
  }
 },
 "nbformat": 4,
 "nbformat_minor": 5
}
